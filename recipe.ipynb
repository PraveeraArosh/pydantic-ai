{
 "cells": [
  {
   "cell_type": "markdown",
   "id": "c9d66a46",
   "metadata": {},
   "source": [
    "# Smart Recipe Analyzer with Pydantic AI #\n",
    "\n"
   ]
  },
  {
   "cell_type": "code",
   "execution_count": 9,
   "id": "71ad8d8f",
   "metadata": {},
   "outputs": [
    {
     "data": {
      "text/plain": [
       "True"
      ]
     },
     "execution_count": 9,
     "metadata": {},
     "output_type": "execute_result"
    }
   ],
   "source": [
    "import os\n",
    "from pydantic import BaseModel, Field\n",
    "from pydantic_ai import Agent\n",
    "from typing import List, Optional\n",
    "import asyncio\n",
    "from dotenv import load_dotenv\n",
    "from openai import OpenAI\n",
    "\n",
    "load_dotenv()"
   ]
  },
  {
   "cell_type": "code",
   "execution_count": 2,
   "id": "f3770c38",
   "metadata": {},
   "outputs": [],
   "source": [
    "class NutritionalInfo(BaseModel):\n",
    "    \"\"\"Nutritional information per serving\"\"\"\n",
    "    calories: int = Field(description=\"Estimated calories per serving\")\n",
    "    protein_g: float = Field(description=\"Protein content in grams\")\n",
    "    carbs_g: float = Field(description=\"Carbohydrate content in grams\")\n",
    "    fat_g: float = Field(description=\"Fat content in grams\")\n",
    "    fiber_g: float = Field(description=\"Fiber content in grams\")"
   ]
  },
  {
   "cell_type": "code",
   "execution_count": 3,
   "id": "e916b4d4",
   "metadata": {},
   "outputs": [],
   "source": [
    "class RecipeAnalysis(BaseModel):\n",
    "    \"\"\"Complete recipe analysis with structured data\"\"\"\n",
    "    difficulty_level: str = Field(description=\"Easy, Medium, or Hard\")\n",
    "    prep_time_minutes: int = Field(description=\"Preparation time in minutes\")\n",
    "    cook_time_minutes: int = Field(description=\"Cooking time in minutes\")\n",
    "    servings: int = Field(description=\"Number of servings\")\n",
    "    cuisine_type: str = Field(description=\"Type of cuisine (e.g., Italian, Asian, etc.)\")\n",
    "    dietary_tags: List[str] = Field(description=\"Diet tags like vegetarian, gluten-free, etc.\")\n",
    "    nutrition: NutritionalInfo = Field(description=\"Nutritional information\")\n",
    "    missing_ingredients: List[str] = Field(description=\"Common ingredients that might be missing\")\n",
    "    cooking_tips: List[str] = Field(description=\"Helpful cooking tips for this recipe\")\n",
    "    healthiness_score: int = Field(description=\"Health score from 1-10 (10 being healthiest)\")"
   ]
  },
  {
   "cell_type": "code",
   "execution_count": 10,
   "id": "72c37a5b",
   "metadata": {},
   "outputs": [],
   "source": [
    "def initialize_openai_client():\n",
    "    \"\"\"Initialize OpenAI client with API key from environment\"\"\"\n",
    "    api_key = os.getenv('OPENAI_API_KEY')\n",
    "    if not api_key:\n",
    "        raise ValueError(\"OPENAI_API_KEY not found in environment variables. Please check your .env file.\")\n",
    "    \n",
    "    return OpenAI(api_key=api_key)"
   ]
  },
  {
   "cell_type": "code",
   "execution_count": 11,
   "id": "0c16d346",
   "metadata": {},
   "outputs": [],
   "source": [
    "openai_client = initialize_openai_client()"
   ]
  },
  {
   "cell_type": "code",
   "execution_count": 14,
   "id": "09dac2f2",
   "metadata": {},
   "outputs": [
    {
     "name": "stderr",
     "output_type": "stream",
     "text": [
      "C:\\Users\\Lenovo\\AppData\\Local\\Temp\\ipykernel_9176\\4019619400.py:1: DeprecationWarning: `result_type` is deprecated, use `output_type` instead\n",
      "  recipe_agent = Agent(\n"
     ]
    }
   ],
   "source": [
    "recipe_agent = Agent(\n",
    "    model=\"gpt-3.5-turbo\",\n",
    "    result_type=RecipeAnalysis,\n",
    "    system_prompt=\"\"\"\n",
    "    You are a professional chef and nutritionist. Analyze recipes and provide detailed, \n",
    "    accurate information about cooking difficulty, timing, nutrition, and helpful tips.\n",
    "\n",
    "    Be realistic with your estimates and provide practical advice that home cooks can use.\n",
    "    For nutritional information, provide reasonable estimates based on typical ingredient portions.\n",
    "    \"\"\",\n",
    ")"
   ]
  },
  {
   "cell_type": "code",
   "execution_count": 15,
   "id": "1fa11387",
   "metadata": {},
   "outputs": [],
   "source": [
    "class RecipeAnalyzer:\n",
    "    \"\"\"Main class for analyzing recipes using Pydantic AI\"\"\"\n",
    "    \n",
    "    def __init__(self):\n",
    "        self.agent = recipe_agent\n",
    "    \n",
    "    async def analyze_recipe(self, recipe_text: str) -> RecipeAnalysis:\n",
    "        \"\"\"\n",
    "        Analyze a recipe and return structured data\n",
    "        \n",
    "        Args:\n",
    "            recipe_text: The recipe text to analyze\n",
    "            \n",
    "        Returns:\n",
    "            RecipeAnalysis: Structured analysis of the recipe\n",
    "        \"\"\"\n",
    "        try:\n",
    "            result = await self.agent.run(f\"Analyze this recipe: {recipe_text}\")\n",
    "            return result.data\n",
    "        except Exception as e:\n",
    "            raise Exception(f\"Error analyzing recipe: {str(e)}\")\n",
    "    \n",
    "    def format_analysis(self, analysis: RecipeAnalysis) -> str:\n",
    "        \"\"\"Format the analysis for display\"\"\"\n",
    "        return f\"\"\"\n",
    "🍳 RECIPE ANALYSIS\n",
    "==================\n",
    "\n",
    "📊 Basic Info:\n",
    "• Difficulty: {analysis.difficulty_level}\n",
    "• Prep Time: {analysis.prep_time_minutes} minutes\n",
    "• Cook Time: {analysis.cook_time_minutes} minutes\n",
    "• Servings: {analysis.servings}\n",
    "• Cuisine: {analysis.cuisine_type}\n",
    "• Health Score: {analysis.healthiness_score}/10\n",
    "\n",
    "🏷️ Dietary Tags: {', '.join(analysis.dietary_tags)}\n",
    "\n",
    "📈 Nutrition (per serving):\n",
    "• Calories: {analysis.nutrition.calories}\n",
    "• Protein: {analysis.nutrition.protein_g}g\n",
    "• Carbs: {analysis.nutrition.carbs_g}g\n",
    "• Fat: {analysis.nutrition.fat_g}g\n",
    "• Fiber: {analysis.nutrition.fiber_g}g\n",
    "\n",
    "❓ Might be missing: {', '.join(analysis.missing_ingredients)}\n",
    "\n",
    "💡 Cooking Tips:\n",
    "{chr(10).join(f'• {tip}' for tip in analysis.cooking_tips)}\n",
    "\"\"\""
   ]
  },
  {
   "cell_type": "code",
   "execution_count": 16,
   "id": "4fe9ec6d",
   "metadata": {},
   "outputs": [],
   "source": [
    "async def main():\n",
    "    # Sample recipe for demonstration\n",
    "    sample_recipe = \"\"\"\n",
    "    Spaghetti Carbonara\n",
    "    \n",
    "    Ingredients:\n",
    "    - 400g spaghetti\n",
    "    - 200g pancetta or guanciale, diced\n",
    "    - 4 large eggs\n",
    "    - 100g Pecorino Romano cheese, grated\n",
    "    - Black pepper\n",
    "    - Salt\n",
    "    \n",
    "    Instructions:\n",
    "    1. Cook spaghetti in salted boiling water until al dente\n",
    "    2. Meanwhile, cook pancetta in a large pan until crispy\n",
    "    3. In a bowl, whisk eggs with cheese and black pepper\n",
    "    4. Drain pasta, reserving some pasta water\n",
    "    5. Add hot pasta to pancetta pan, remove from heat\n",
    "    6. Quickly stir in egg mixture, adding pasta water as needed\n",
    "    7. Serve immediately with extra cheese and pepper\n",
    "    \"\"\"\n",
    "    \n",
    "    # Initialize analyzer\n",
    "    analyzer = RecipeAnalyzer()\n",
    "    \n",
    "    print(\"🔍 Analyzing recipe...\")\n",
    "    \n",
    "    try:\n",
    "        # Analyze the recipe\n",
    "        analysis = await analyzer.analyze_recipe(sample_recipe)\n",
    "        \n",
    "        # Display formatted results\n",
    "        print(analyzer.format_analysis(analysis))\n",
    "        \n",
    "        # You can also access individual fields programmatically\n",
    "        print(f\"\\n🎯 Quick Check:\")\n",
    "        print(f\"This is a {analysis.difficulty_level.lower()} recipe\")\n",
    "        print(f\"Total time: {analysis.prep_time_minutes + analysis.cook_time_minutes} minutes\")\n",
    "        print(f\"Calories per serving: {analysis.nutrition.calories}\")\n",
    "        \n",
    "    except Exception as e:\n",
    "        print(f\"❌ Error: {e}\")"
   ]
  },
  {
   "cell_type": "code",
   "execution_count": 17,
   "id": "ae773917",
   "metadata": {},
   "outputs": [],
   "source": [
    "def recipe_to_shopping_list(analysis: RecipeAnalysis) -> List[str]:\n",
    "    \"\"\"Generate a shopping list from missing ingredients\"\"\"\n",
    "    return [f\"□ {ingredient}\" for ingredient in analysis.missing_ingredients]"
   ]
  },
  {
   "cell_type": "code",
   "execution_count": 18,
   "id": "6b925253",
   "metadata": {},
   "outputs": [],
   "source": [
    "def is_healthy_recipe(analysis: RecipeAnalysis) -> bool:\n",
    "    \"\"\"Quick health check\"\"\"\n",
    "    return analysis.healthiness_score >= 7"
   ]
  },
  {
   "cell_type": "code",
   "execution_count": 19,
   "id": "270ed73e",
   "metadata": {},
   "outputs": [],
   "source": [
    "def get_time_category(analysis: RecipeAnalysis) -> str:\n",
    "    \"\"\"Categorize recipe by total time\"\"\"\n",
    "    total_time = analysis.prep_time_minutes + analysis.cook_time_minutes\n",
    "    if total_time <= 30:\n",
    "        return \"Quick meal\"\n",
    "    elif total_time <= 60:\n",
    "        return \"Regular meal\"\n",
    "    else:\n",
    "        return \"Special occasion\""
   ]
  },
  {
   "cell_type": "code",
   "execution_count": 23,
   "id": "16871b08",
   "metadata": {},
   "outputs": [
    {
     "name": "stdout",
     "output_type": "stream",
     "text": [
      "🔍 Analyzing recipe...\n",
      "\n",
      "🍳 RECIPE ANALYSIS\n",
      "==================\n",
      "\n",
      "📊 Basic Info:\n",
      "• Difficulty: Medium\n",
      "• Prep Time: 15 minutes\n",
      "• Cook Time: 15 minutes\n",
      "• Servings: 4\n",
      "• Cuisine: Italian\n",
      "• Health Score: 8/10\n",
      "\n",
      "🏷️ Dietary Tags: \n",
      "\n",
      "📈 Nutrition (per serving):\n",
      "• Calories: 680\n",
      "• Protein: 28.0g\n",
      "• Carbs: 75.0g\n",
      "• Fat: 30.0g\n",
      "• Fiber: 4.0g\n",
      "\n",
      "❓ Might be missing: \n",
      "\n",
      "💡 Cooking Tips:\n",
      "• Ensure the pasta is al dente to prevent it from becoming mushy when mixed with the sauce.\n",
      "• Gradually add the egg mixture to the pasta off the heat to avoid scrambling the eggs.\n",
      "• Adjust the amount of black pepper to suit your taste preference.\n",
      "\n",
      "\n",
      "🎯 Quick Check:\n",
      "This is a medium recipe\n",
      "Total time: 30 minutes\n",
      "Calories per serving: 680\n"
     ]
    },
    {
     "name": "stderr",
     "output_type": "stream",
     "text": [
      "C:\\Users\\Lenovo\\AppData\\Local\\Temp\\ipykernel_9176\\2560727949.py:19: DeprecationWarning: `result.data` is deprecated, use `result.output` instead.\n",
      "  return result.data\n"
     ]
    }
   ],
   "source": [
    "await main()"
   ]
  }
 ],
 "metadata": {
  "kernelspec": {
   "display_name": "env",
   "language": "python",
   "name": "python3"
  },
  "language_info": {
   "codemirror_mode": {
    "name": "ipython",
    "version": 3
   },
   "file_extension": ".py",
   "mimetype": "text/x-python",
   "name": "python",
   "nbconvert_exporter": "python",
   "pygments_lexer": "ipython3",
   "version": "3.10.9"
  }
 },
 "nbformat": 4,
 "nbformat_minor": 5
}
